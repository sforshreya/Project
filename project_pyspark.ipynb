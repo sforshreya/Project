{
  "nbformat": 4,
  "nbformat_minor": 0,
  "metadata": {
    "colab": {
      "provenance": []
    },
    "kernelspec": {
      "name": "python3",
      "display_name": "Python 3"
    },
    "language_info": {
      "name": "python"
    }
  },
  "cells": [
    {
      "cell_type": "code",
      "execution_count": null,
      "metadata": {
        "colab": {
          "base_uri": "https://localhost:8080/"
        },
        "id": "Av3wLasvWYow",
        "outputId": "56d7c5f3-e510-4bfd-cc82-f9de23d24a9e"
      },
      "outputs": [
        {
          "output_type": "stream",
          "name": "stdout",
          "text": [
            "Looking in indexes: https://pypi.org/simple, https://us-python.pkg.dev/colab-wheels/public/simple/\n",
            "Requirement already satisfied: pyspark in /usr/local/lib/python3.9/dist-packages (3.3.2)\n",
            "Requirement already satisfied: py4j==0.10.9.5 in /usr/local/lib/python3.9/dist-packages (from pyspark) (0.10.9.5)\n"
          ]
        }
      ],
      "source": [
        "!pip install pyspark"
      ]
    },
    {
      "cell_type": "code",
      "source": [
        "#Importing necessary Libraries and creating spark session\n",
        "from pyspark.sql import SparkSession\n",
        "from pyspark.sql.types import *\n",
        "spark = SparkSession.builder.config('spark.some.config.option','some-value').getOrCreate()\n",
        "spark"
      ],
      "metadata": {
        "colab": {
          "base_uri": "https://localhost:8080/",
          "height": 222
        },
        "id": "m9GxgrLCWmLT",
        "outputId": "6d18a965-ca3d-4ec3-c50c-64dc5247ee8e"
      },
      "execution_count": null,
      "outputs": [
        {
          "output_type": "execute_result",
          "data": {
            "text/plain": [
              "<pyspark.sql.session.SparkSession at 0x7f31c64105e0>"
            ],
            "text/html": [
              "\n",
              "            <div>\n",
              "                <p><b>SparkSession - in-memory</b></p>\n",
              "                \n",
              "        <div>\n",
              "            <p><b>SparkContext</b></p>\n",
              "\n",
              "            <p><a href=\"http://36492971796a:4040\">Spark UI</a></p>\n",
              "\n",
              "            <dl>\n",
              "              <dt>Version</dt>\n",
              "                <dd><code>v3.3.2</code></dd>\n",
              "              <dt>Master</dt>\n",
              "                <dd><code>local[*]</code></dd>\n",
              "              <dt>AppName</dt>\n",
              "                <dd><code>pyspark-shell</code></dd>\n",
              "            </dl>\n",
              "        </div>\n",
              "        \n",
              "            </div>\n",
              "        "
            ]
          },
          "metadata": {},
          "execution_count": 2
        }
      ]
    },
    {
      "cell_type": "code",
      "source": [
        "from pyspark.sql.types import StringType, StringType, IntegerType, DoubleType, DataType, LongType\n",
        "\n",
        "schema = StructType([\n",
        "    StructField('Store', StringType(), True),\n",
        "    StructField('Type',StringType(), True),\n",
        "    StructField('Size',DoubleType(), True)\n",
        "])"
      ],
      "metadata": {
        "id": "KsCryxi9W2UT"
      },
      "execution_count": null,
      "outputs": []
    },
    {
      "cell_type": "code",
      "source": [
        "df_store=spark.read.format(\"csv\").option(\"header\",\"True\").schema(schema).load(\"stores.csv\")"
      ],
      "metadata": {
        "id": "hsuRzPMTW4D3"
      },
      "execution_count": null,
      "outputs": []
    },
    {
      "cell_type": "code",
      "source": [
        "df_store.show()"
      ],
      "metadata": {
        "colab": {
          "base_uri": "https://localhost:8080/"
        },
        "id": "ezDPXlxlXNGx",
        "outputId": "c4c6c46e-d322-44cf-9d74-f2218536c42d"
      },
      "execution_count": null,
      "outputs": [
        {
          "output_type": "stream",
          "name": "stdout",
          "text": [
            "+-----+----+--------+\n",
            "|Store|Type|    Size|\n",
            "+-----+----+--------+\n",
            "|    1|   A|151315.0|\n",
            "|    2|   A|202307.0|\n",
            "|    3|   B| 37392.0|\n",
            "|    4|   A|205863.0|\n",
            "|    5|   B| 34875.0|\n",
            "|    6|   A|202505.0|\n",
            "|    7|   B| 70713.0|\n",
            "|    8|   A|155078.0|\n",
            "|    9|   B|125833.0|\n",
            "|   10|   B|126512.0|\n",
            "|   11|   A|207499.0|\n",
            "|   12|   B|112238.0|\n",
            "|   13|   A|219622.0|\n",
            "|   14|   A|200898.0|\n",
            "|   15|   B|123737.0|\n",
            "|   16|   B| 57197.0|\n",
            "|   17|   B| 93188.0|\n",
            "|   18|   B|120653.0|\n",
            "|   19|   A|203819.0|\n",
            "|   20|   A|203742.0|\n",
            "+-----+----+--------+\n",
            "only showing top 20 rows\n",
            "\n"
          ]
        }
      ]
    },
    {
      "cell_type": "code",
      "source": [
        "df_store.registerTempTable(\"store\")"
      ],
      "metadata": {
        "colab": {
          "base_uri": "https://localhost:8080/"
        },
        "id": "M_tKJ0-xXRGN",
        "outputId": "a491bd25-fb62-46a2-8401-510227695840"
      },
      "execution_count": null,
      "outputs": [
        {
          "output_type": "stream",
          "name": "stderr",
          "text": [
            "/usr/local/lib/python3.9/dist-packages/pyspark/sql/dataframe.py:229: FutureWarning: Deprecated in 2.0, use createOrReplaceTempView instead.\n",
            "  warnings.warn(\"Deprecated in 2.0, use createOrReplaceTempView instead.\", FutureWarning)\n"
          ]
        }
      ]
    },
    {
      "cell_type": "code",
      "source": [
        "spark.sql(\"select * from store\").show(5)"
      ],
      "metadata": {
        "colab": {
          "base_uri": "https://localhost:8080/"
        },
        "id": "qdIUM-RdXTkq",
        "outputId": "1fea0b04-72ce-481c-9be9-ac6122c053b4"
      },
      "execution_count": null,
      "outputs": [
        {
          "output_type": "stream",
          "name": "stdout",
          "text": [
            "+-----+----+--------+\n",
            "|Store|Type|    Size|\n",
            "+-----+----+--------+\n",
            "|    1|   A|151315.0|\n",
            "|    2|   A|202307.0|\n",
            "|    3|   B| 37392.0|\n",
            "|    4|   A|205863.0|\n",
            "|    5|   B| 34875.0|\n",
            "+-----+----+--------+\n",
            "only showing top 5 rows\n",
            "\n"
          ]
        }
      ]
    },
    {
      "cell_type": "code",
      "source": [
        "from pyspark.sql.types import StringType, StringType, IntegerType, DoubleType, DateType, LongType\n",
        "\n",
        "schema1 = StructType([\n",
        "    StructField('Index', IntegerType(), True),\n",
        "    StructField('Store', IntegerType(), True),\n",
        "    StructField('Date',DateType(), True),\n",
        "    StructField('Store_Weekly_Sales',DoubleType(), True),\n",
        "    StructField('Temperature',DoubleType(), True),\n",
        "    StructField('Fuel_Price', DoubleType(), True),\n",
        "    StructField('CPI',DoubleType(), True),\n",
        "    StructField('Unemployment',DoubleType(), True),\n",
        "    StructField('IsHoliday', StringType(), True),\n",
        "    StructField('Week',IntegerType(), True),\n",
        "    StructField('Month',IntegerType(), True),\n",
        "    StructField('Year', IntegerType(), True),\n",
        "    StructField('Quarter',IntegerType(), True),\n",
        "    StructField('MarkDown',DoubleType(), True)\n",
        "])"
      ],
      "metadata": {
        "id": "X8zLM8VmXYoW"
      },
      "execution_count": null,
      "outputs": []
    },
    {
      "cell_type": "code",
      "source": [
        "df_Sale_Store=spark.read.format(\"csv\").option(\"header\",\"True\").schema(schema1).load(\"store_sales.csv\")"
      ],
      "metadata": {
        "id": "1zHYUI0WXf60"
      },
      "execution_count": null,
      "outputs": []
    },
    {
      "cell_type": "code",
      "source": [
        "df_Sale_Store.show()"
      ],
      "metadata": {
        "colab": {
          "base_uri": "https://localhost:8080/"
        },
        "id": "6QR_Gu0RbdTv",
        "outputId": "788da809-cfc8-402f-925b-621e65a284ff"
      },
      "execution_count": null,
      "outputs": [
        {
          "output_type": "stream",
          "name": "stdout",
          "text": [
            "+-----+-----+----------+------------------+-----------+----------+-----------+------------+---------+----+-----+----+-------+------------------+\n",
            "|Index|Store|      Date|Store_Weekly_Sales|Temperature|Fuel_Price|        CPI|Unemployment|IsHoliday|Week|Month|Year|Quarter|          MarkDown|\n",
            "+-----+-----+----------+------------------+-----------+----------+-----------+------------+---------+----+-----+----+-------+------------------+\n",
            "|    0|    1|2010-02-05|         1643.6909|      42.31|     2.572|211.0963582|       8.106|    False|   5|    2|2010|      1|23398.127598566305|\n",
            "|    1|    1|2010-02-12|1641.9574400000001|      38.51|     2.548|211.2421698|       8.106|     True|   6|    2|2010|      1|23398.127598566305|\n",
            "|    2|    1|2010-02-19|        1611.96817|      39.93|     2.514|211.2891429|       8.106|    False|   7|    2|2010|      1|23398.127598566305|\n",
            "|    3|    1|2010-02-26|        1409.72759|      46.63|     2.561|211.3196429|       8.106|    False|   8|    2|2010|      1|23398.127598566305|\n",
            "|    4|    1|2010-03-05|1554.8066800000001|       46.5|     2.625|211.3501429|       8.106|    False|   9|    3|2010|      1|23398.127598566305|\n",
            "|    5|    1|2010-03-12|        1439.54159|      57.79|     2.667|211.3806429|       8.106|    False|  10|    3|2010|      1|23398.127598566305|\n",
            "|    6|    1|2010-03-19|        1472.51579|      54.58|      2.72| 211.215635|       8.106|    False|  11|    3|2010|      1|23398.127598566305|\n",
            "|    7|    1|2010-03-26|        1404.42992|      51.45|     2.732|211.0180424|       8.106|    False|  12|    3|2010|      1|23398.127598566305|\n",
            "|    8|    1|2010-04-02|        1594.96828|      62.27|     2.719|210.8204499|       7.808|    False|  13|    4|2010|      2|23398.127598566305|\n",
            "|    9|    1|2010-04-09|        1545.41853|      65.86|      2.77|210.6228574|       7.808|    False|  14|    4|2010|      2|23398.127598566305|\n",
            "|   10|    1|2010-04-16|        1466.05828|      66.32|     2.808|   210.4887|       7.808|    False|  15|    4|2010|      2|23398.127598566305|\n",
            "|   11|    1|2010-04-23|        1391.25612|      64.84|     2.795|210.4391228|       7.808|    False|  16|    4|2010|      2|23398.127598566305|\n",
            "|   12|    1|2010-04-30|        1425.10071|      67.41|      2.78|210.3895456|       7.808|    False|  17|    4|2010|      2|23398.127598566305|\n",
            "|   13|    1|2010-05-07|1603.9551199999999|      72.55|     2.835|210.3399684|       7.808|    False|  18|    5|2010|      2|23398.127598566305|\n",
            "|   14|    1|2010-05-14|         1494.2515|      74.78|     2.854|210.3374261|       7.808|    False|  19|    5|2010|      2|23398.127598566305|\n",
            "|   15|    1|2010-05-21|        1399.66207|      76.44|     2.826|210.6170934|       7.808|    False|  20|    5|2010|      2|23398.127598566305|\n",
            "|   16|    1|2010-05-28|        1432.06995|      80.44|     2.759|210.8967606|       7.808|    False|  21|    5|2010|      2|23398.127598566305|\n",
            "|   17|    1|2010-06-04|        1615.52471|      80.69|     2.705|211.1764278|       7.808|    False|  22|    6|2010|      2|23398.127598566305|\n",
            "|   18|    1|2010-06-11|        1542.56109|      80.43|     2.668|211.4560951|       7.808|    False|  23|    6|2010|      2|23398.127598566305|\n",
            "|   19|    1|2010-06-18|        1503.28406|      84.11|     2.637|211.4537719|       7.808|    False|  24|    6|2010|      2|23398.127598566305|\n",
            "+-----+-----+----------+------------------+-----------+----------+-----------+------------+---------+----+-----+----+-------+------------------+\n",
            "only showing top 20 rows\n",
            "\n"
          ]
        }
      ]
    },
    {
      "cell_type": "code",
      "source": [
        "df_Sale_Store.registerTempTable(\"store_sale\")"
      ],
      "metadata": {
        "id": "STXQN5UZblJW"
      },
      "execution_count": null,
      "outputs": []
    },
    {
      "cell_type": "code",
      "source": [
        "spark.sql(\"select * from store_sale\").show(5)"
      ],
      "metadata": {
        "colab": {
          "base_uri": "https://localhost:8080/"
        },
        "id": "kQ4NAzn5bpRh",
        "outputId": "7109a5c8-b4de-4d74-9a36-d2f82421bb2b"
      },
      "execution_count": null,
      "outputs": [
        {
          "output_type": "stream",
          "name": "stdout",
          "text": [
            "+-----+-----+----------+------------------+-----------+----------+-----------+------------+---------+----+-----+----+-------+------------------+\n",
            "|Index|Store|      Date|Store_Weekly_Sales|Temperature|Fuel_Price|        CPI|Unemployment|IsHoliday|Week|Month|Year|Quarter|          MarkDown|\n",
            "+-----+-----+----------+------------------+-----------+----------+-----------+------------+---------+----+-----+----+-------+------------------+\n",
            "|    0|    1|2010-02-05|         1643.6909|      42.31|     2.572|211.0963582|       8.106|    False|   5|    2|2010|      1|23398.127598566305|\n",
            "|    1|    1|2010-02-12|1641.9574400000001|      38.51|     2.548|211.2421698|       8.106|     True|   6|    2|2010|      1|23398.127598566305|\n",
            "|    2|    1|2010-02-19|        1611.96817|      39.93|     2.514|211.2891429|       8.106|    False|   7|    2|2010|      1|23398.127598566305|\n",
            "|    3|    1|2010-02-26|        1409.72759|      46.63|     2.561|211.3196429|       8.106|    False|   8|    2|2010|      1|23398.127598566305|\n",
            "|    4|    1|2010-03-05|1554.8066800000001|       46.5|     2.625|211.3501429|       8.106|    False|   9|    3|2010|      1|23398.127598566305|\n",
            "+-----+-----+----------+------------------+-----------+----------+-----------+------------+---------+----+-----+----+-------+------------------+\n",
            "only showing top 5 rows\n",
            "\n"
          ]
        }
      ]
    },
    {
      "cell_type": "code",
      "source": [
        "#. Number of stores in each store Type\n",
        "\n",
        "q1=spark.sql(\"Select Type, count(store) store_count from store group by Type order by store_count  desc\")\n",
        "q1.show()"
      ],
      "metadata": {
        "colab": {
          "base_uri": "https://localhost:8080/"
        },
        "id": "I5zemPyXbtn2",
        "outputId": "bfb16d19-99c1-4fd2-8c36-bf4989b8ba5a"
      },
      "execution_count": null,
      "outputs": [
        {
          "output_type": "stream",
          "name": "stdout",
          "text": [
            "+----+-----------+\n",
            "|Type|store_count|\n",
            "+----+-----------+\n",
            "|   A|         22|\n",
            "|   B|         17|\n",
            "|   C|          6|\n",
            "+----+-----------+\n",
            "\n"
          ]
        }
      ]
    },
    {
      "cell_type": "code",
      "source": [
        "#Total sale by store \n",
        "\n",
        "q2=spark.sql(\"select Store, sum(Store_Weekly_Sales) from store_sale group by Store\")\n",
        "q2.show()"
      ],
      "metadata": {
        "colab": {
          "base_uri": "https://localhost:8080/"
        },
        "id": "eIsTFvyRbwog",
        "outputId": "31a63ef0-3315-4334-9038-2afc9d86f71e"
      },
      "execution_count": null,
      "outputs": [
        {
          "output_type": "stream",
          "name": "stdout",
          "text": [
            "+-----+-----------------------+\n",
            "|Store|sum(Store_Weekly_Sales)|\n",
            "+-----+-----------------------+\n",
            "|   31|     199613.90549999994|\n",
            "|   34|     138249.76299999998|\n",
            "|   28|     189263.68057999987|\n",
            "|   26|           143416.39379|\n",
            "|   27|     253855.91687999998|\n",
            "|   44|      43293.08784000002|\n",
            "|   12|           144287.23015|\n",
            "|   22|     147075.64856999996|\n",
            "|    1|     222402.80884999997|\n",
            "|   13|      286517.7037999999|\n",
            "|    6|     223756.13063999993|\n",
            "|   16|      74252.42540000002|\n",
            "|    3|      57586.73506999998|\n",
            "|   20|      301397.7924599999|\n",
            "|   40|     137870.30979000003|\n",
            "|    5|      45475.68889999999|\n",
            "|   19|            206634.8621|\n",
            "|   41|      181341.9348900001|\n",
            "|   15|      89133.68392000001|\n",
            "|   43|      90565.43540999998|\n",
            "+-----+-----------------------+\n",
            "only showing top 20 rows\n",
            "\n"
          ]
        }
      ]
    },
    {
      "cell_type": "code",
      "source": [
        "# Top 10 stores which are making the highest Sales.\n",
        "\n",
        "spark.sql(\"select Store, sum(Store_Weekly_Sales) as Store_sales from store_sale group by Store order by Store_sales Desc limit 10\").show()"
      ],
      "metadata": {
        "colab": {
          "base_uri": "https://localhost:8080/"
        },
        "id": "5V6B7bCub3p4",
        "outputId": "60b219f0-4323-4a1e-a6bd-db2484f43a71"
      },
      "execution_count": null,
      "outputs": [
        {
          "output_type": "stream",
          "name": "stdout",
          "text": [
            "+-----+------------------+\n",
            "|Store|       Store_sales|\n",
            "+-----+------------------+\n",
            "|   20| 301397.7924599999|\n",
            "|    4| 299543.9533800001|\n",
            "|   14| 288999.9113400001|\n",
            "|   13| 286517.7037999999|\n",
            "|    2|275382.44098000013|\n",
            "|   10|271617.71389000013|\n",
            "|   27|253855.91687999998|\n",
            "|    6|223756.13063999993|\n",
            "|    1|222402.80884999997|\n",
            "|   39|207445.54247000004|\n",
            "+-----+------------------+\n",
            "\n"
          ]
        }
      ]
    },
    {
      "cell_type": "code",
      "source": [
        "#Bottom 10 stores which are making the highest Sales.\n",
        "\n",
        "spark.sql(\"select Store, sum(Store_Weekly_Sales) as salesByStores from store_sale group by Store order by salesByStores limit 10\").show()"
      ],
      "metadata": {
        "colab": {
          "base_uri": "https://localhost:8080/"
        },
        "id": "vO83JVLib_hh",
        "outputId": "ca729b0a-e00e-42e6-819e-1ecaeeb4fb6e"
      },
      "execution_count": null,
      "outputs": [
        {
          "output_type": "stream",
          "name": "stdout",
          "text": [
            "+-----+-----------------+\n",
            "|Store|    salesByStores|\n",
            "+-----+-----------------+\n",
            "|   33|37160.22195999999|\n",
            "|   44|43293.08784000002|\n",
            "|    5|45475.68889999999|\n",
            "|   36|53412.21496999999|\n",
            "|   38|55159.62641999997|\n",
            "|    3|57586.73506999998|\n",
            "|   30|62716.88512000001|\n",
            "|   37|74202.74032000006|\n",
            "|   16|74252.42540000002|\n",
            "|   29|77141.55430999999|\n",
            "+-----+-----------------+\n",
            "\n"
          ]
        }
      ]
    },
    {
      "cell_type": "code",
      "source": [
        "#Q5. What is the max sales per week?\n",
        "spark.sql(\"select Store, max(Store_Weekly_Sales) as max_sale from store_sale group by Store\").show()"
      ],
      "metadata": {
        "colab": {
          "base_uri": "https://localhost:8080/"
        },
        "id": "y5XZZqCicBws",
        "outputId": "6c05aaa9-3cf9-4466-ce73-04532a438be2"
      },
      "execution_count": null,
      "outputs": [
        {
          "output_type": "stream",
          "name": "stdout",
          "text": [
            "+-----+----------+\n",
            "|Store|  max_sale|\n",
            "+-----+----------+\n",
            "|   31|2068.94297|\n",
            "|   34|1620.74825|\n",
            "|   28|2026.02639|\n",
            "|   26|1573.98247|\n",
            "|   27|3078.16208|\n",
            "|   44| 376.23389|\n",
            "|   12|1768.24989|\n",
            "|   22|1962.44504|\n",
            "|    1| 2387.9502|\n",
            "|   13| 3595.9032|\n",
            "|    6|2727.57518|\n",
            "|   16|1004.73069|\n",
            "|    3| 605.99041|\n",
            "|   20|3766.68743|\n",
            "|   40|1648.82918|\n",
            "|    5| 507.90007|\n",
            "|   19|2678.20642|\n",
            "|   41|2263.72268|\n",
            "|   15|1368.31817|\n",
            "|   43| 725.04304|\n",
            "+-----+----------+\n",
            "only showing top 20 rows\n",
            "\n"
          ]
        }
      ]
    },
    {
      "cell_type": "code",
      "source": [
        "# What is the min weekly sales?\n",
        "spark.sql(\"select Store, min(Store_Weekly_Sales) as min_sale from store_sale group by Store\").show()"
      ],
      "metadata": {
        "colab": {
          "base_uri": "https://localhost:8080/"
        },
        "id": "1eXJZ8GpcIU4",
        "outputId": "3748ee76-bce2-4bff-a0bb-5af0d86bf5f5"
      },
      "execution_count": null,
      "outputs": [
        {
          "output_type": "stream",
          "name": "stdout",
          "text": [
            "+-----+-----------------+\n",
            "|Store|         min_sale|\n",
            "+-----+-----------------+\n",
            "|   31|        1198.0716|\n",
            "|   34|        836.71775|\n",
            "|   28|       1079.66911|\n",
            "|   26|        809.83321|\n",
            "|   27|       1263.53486|\n",
            "|   44|        241.93711|\n",
            "|   12|         802.1055|\n",
            "|   22|        774.26228|\n",
            "|    1|       1316.89931|\n",
            "|   13|       1633.66312|\n",
            "|    6|       1261.25318|\n",
            "|   16|            368.6|\n",
            "|    3|        339.59738|\n",
            "|   20|       1761.01651|\n",
            "|   40|764.0147499999999|\n",
            "|    5|        260.63671|\n",
            "|   19|       1181.20453|\n",
            "|   41|        991.94173|\n",
            "|   15|        454.18342|\n",
            "|   43|        505.40585|\n",
            "+-----+-----------------+\n",
            "only showing top 20 rows\n",
            "\n"
          ]
        }
      ]
    },
    {
      "cell_type": "code",
      "source": [
        "# Total sales on week of Holiday And week of not having Holiday.\n",
        "\n",
        "spark.sql(\"select IsHoliday, sum(Store_Weekly_Sales) as Sales from store_sale group by IsHoliday order by Sales limit 10\").show()"
      ],
      "metadata": {
        "colab": {
          "base_uri": "https://localhost:8080/"
        },
        "id": "HaiHRZZdcNf4",
        "outputId": "bf4f3395-add5-4936-cd3f-e84f6c2c09e4"
      },
      "execution_count": null,
      "outputs": [
        {
          "output_type": "stream",
          "name": "stdout",
          "text": [
            "+---------+------------------+\n",
            "|IsHoliday|             Sales|\n",
            "+---------+------------------+\n",
            "|     True|505299.55155999964|\n",
            "|    False| 6231919.435550011|\n",
            "+---------+------------------+\n",
            "\n"
          ]
        }
      ]
    },
    {
      "cell_type": "code",
      "source": [
        "#Top 10 stores by Markdown.\n",
        "\n",
        "spark.sql(\"select Store, sum(MarkDown) as Total_MarkDown from store_sale group by Store order by Total_MarkDown limit 10\").show()"
      ],
      "metadata": {
        "colab": {
          "base_uri": "https://localhost:8080/"
        },
        "id": "2_zADRAYcWd5",
        "outputId": "b5855631-f606-4004-902b-ee873c86f7f1"
      },
      "execution_count": null,
      "outputs": [
        {
          "output_type": "stream",
          "name": "stdout",
          "text": [
            "+-----+------------------+\n",
            "|Store|    Total_MarkDown|\n",
            "+-----+------------------+\n",
            "|    3| 2862260.348637995|\n",
            "|    5|2972843.5662365607|\n",
            "|   16|2984541.1138351276|\n",
            "|   29|2991314.4682437275|\n",
            "|   34|3010289.0102508953|\n",
            "|   26|3035113.5078494623|\n",
            "|    9|3052297.8718279595|\n",
            "|   15|3077245.3430465953|\n",
            "|    7| 3103732.120645162|\n",
            "|   40|3128388.5130465953|\n",
            "+-----+------------------+\n",
            "\n"
          ]
        }
      ]
    },
    {
      "cell_type": "code",
      "source": [
        "# Find how much Sales is done per Year\n",
        "spark.sql(\"select Year, sum(Store_Weekly_Sales) as Sales_per_Year from store_sale group by Year order by Sales_per_Year\").show()"
      ],
      "metadata": {
        "colab": {
          "base_uri": "https://localhost:8080/"
        },
        "id": "phSqRpsfcZtr",
        "outputId": "e806cd69-1815-452c-b9ab-b2818468a9dd"
      },
      "execution_count": null,
      "outputs": [
        {
          "output_type": "stream",
          "name": "stdout",
          "text": [
            "+----+------------------+\n",
            "|Year|    Sales_per_Year|\n",
            "+----+------------------+\n",
            "|2012|2000132.8593499996|\n",
            "|2010|2288886.1204099986|\n",
            "|2011|     2448200.00735|\n",
            "+----+------------------+\n",
            "\n"
          ]
        }
      ]
    },
    {
      "cell_type": "code",
      "source": [
        "from pyspark.sql.types import StringType, IntegerType, DoubleType, DateType, LongType,BooleanType\n",
        "\n",
        "schema3 = StructType([\n",
        "    StructField('Date',DateType(), True),\n",
        "    StructField('Store', IntegerType(), True),\n",
        "    StructField('Weekly_Sales',DoubleType(), True),\n",
        "    StructField('Type',StringType(), True),\n",
        "    StructField('Temperature',StringType(), True),\n",
        "    StructField('Fuel_Price', DoubleType(), True),\n",
        "    StructField('CPI',DoubleType(), True),\n",
        "    StructField('Unemployment',DoubleType(), True),\n",
        "    StructField('IsHoliday', IntegerType(), True),\n",
        "    StructField('Week',IntegerType(), True),\n",
        "    StructField('Month',IntegerType(), True),\n",
        "    StructField('Year', IntegerType(), True),\n",
        "    StructField('Quarter',IntegerType(), True),\n",
        "    StructField('MarkDown',DoubleType(), True)\n",
        "])"
      ],
      "metadata": {
        "id": "I6PH2NFQgftk"
      },
      "execution_count": null,
      "outputs": []
    },
    {
      "cell_type": "code",
      "source": [
        "df_Weekly_Sales=spark.read.format(\"csv\").option(\"header\",\"True\").schema(schema3).load(\"weekly_sales.csv\")"
      ],
      "metadata": {
        "id": "KBIBqwF1hi9a"
      },
      "execution_count": null,
      "outputs": []
    },
    {
      "cell_type": "code",
      "source": [
        "df_Weekly_Sales.show()"
      ],
      "metadata": {
        "colab": {
          "base_uri": "https://localhost:8080/"
        },
        "id": "Czk79BLTiLJR",
        "outputId": "20da5005-b976-4d0d-c082-31406984ee44"
      },
      "execution_count": null,
      "outputs": [
        {
          "output_type": "stream",
          "name": "stdout",
          "text": [
            "+----------+-----+------------+----------+-----------+----------+--------+------------+---------+----+-----+----+-------+--------+\n",
            "|      Date|Store|Weekly_Sales|      Type|Temperature|Fuel_Price|     CPI|Unemployment|IsHoliday|Week|Month|Year|Quarter|MarkDown|\n",
            "+----------+-----+------------+----------+-----------+----------+--------+------------+---------+----+-----+----+-------+--------+\n",
            "|2010-03-12|   32|        87.0|2010-03-12|    5083.95|      null|203007.0|       39.88|     null|null| null|   0|   2010|     3.0|\n",
            "|2010-03-12|   37|        79.0|2010-03-12|    8200.92|      null| 39910.0|       61.96|     null|null| null|   0|   2010|     3.0|\n",
            "|2010-03-12|   40|        35.0|2010-03-12|     2011.0|      null|155083.0|        35.1|     null|null| null|   0|   2010|     3.0|\n",
            "|2010-03-12|   37|        80.0|2010-03-12|   11033.67|      null| 39910.0|       61.96|     null|null| null|   0|   2010|     3.0|\n",
            "|2010-03-12|   30|        93.0|2010-03-12|   22841.38|      null| 42988.0|        57.1|     null|null| null|   0|   2010|     3.0|\n",
            "|2010-03-12|   32|        90.0|2010-03-12|   60103.03|      null|203007.0|       39.88|     null|null| null|   0|   2010|     3.0|\n",
            "|2010-03-12|    1|        94.0|2010-03-12|   61326.35|      null|151315.0|       57.79|     null|null| null|   0|   2010|     3.0|\n",
            "|2010-03-12|   37|        74.0|2010-03-12|     366.04|      null| 39910.0|       61.96|     null|null| null|   0|   2010|     3.0|\n",
            "|2010-03-12|   29|         7.0|2010-03-12|   13333.77|      null| 93638.0|       43.43|     null|null| null|   0|   2010|     3.0|\n",
            "|2010-03-12|   39|         8.0|2010-03-12|   34633.86|      null|184109.0|       61.88|     null|null| null|   0|   2010|     3.0|\n",
            "|2010-03-12|   35|        11.0|2010-03-12|   13212.36|      null|103681.0|       45.98|     null|null| null|   0|   2010|     3.0|\n",
            "|2010-03-12|   31|        54.0|2010-03-12|      131.0|      null|203750.0|        57.1|     null|null| null|   0|   2010|     3.0|\n",
            "|2010-03-12|   41|        91.0|2010-03-12|   49224.45|      null|196321.0|        33.4|     null|null| null|   0|   2010|     3.0|\n",
            "|2010-03-12|   30|        28.0|2010-03-12|      174.5|      null| 42988.0|        57.1|     null|null| null|   0|   2010|     3.0|\n",
            "|2010-03-12|   32|        91.0|2010-03-12|   50447.69|      null|203007.0|       39.88|     null|null| null|   0|   2010|     3.0|\n",
            "|2010-03-12|   35|        10.0|2010-03-12|   18776.08|      null|103681.0|       45.98|     null|null| null|   0|   2010|     3.0|\n",
            "|2010-03-12|   35|        81.0|2010-03-12|   11237.06|      null|103681.0|       45.98|     null|null| null|   0|   2010|     3.0|\n",
            "|2010-03-12|   43|         2.0|2010-03-12|   21862.86|      null| 41062.0|       53.67|     null|null| null|   0|   2010|     3.0|\n",
            "|2010-03-12|   41|        93.0|2010-03-12|   29559.97|      null|196321.0|        33.4|     null|null| null|   0|   2010|     3.0|\n",
            "|2010-03-12|   42|        11.0|2010-03-12|     799.24|      null| 39690.0|       52.33|     null|null| null|   0|   2010|     3.0|\n",
            "+----------+-----+------------+----------+-----------+----------+--------+------------+---------+----+-----+----+-------+--------+\n",
            "only showing top 20 rows\n",
            "\n"
          ]
        }
      ]
    },
    {
      "cell_type": "code",
      "source": [
        "df_Weekly_Sales.registerTempTable(\"weekly_sale\")"
      ],
      "metadata": {
        "id": "4CwCl0vPibeo"
      },
      "execution_count": null,
      "outputs": []
    },
    {
      "cell_type": "code",
      "source": [
        "spark.sql(\"select * from weekly_sale\").show(5)"
      ],
      "metadata": {
        "colab": {
          "base_uri": "https://localhost:8080/"
        },
        "id": "-ZW8acxHjWiK",
        "outputId": "5beec2c2-acac-400d-93f9-ac8f8598ef6c"
      },
      "execution_count": null,
      "outputs": [
        {
          "output_type": "stream",
          "name": "stdout",
          "text": [
            "+----------+-----+------------+----------+-----------+----------+--------+------------+---------+----+-----+----+-------+--------+\n",
            "|      Date|Store|Weekly_Sales|      Type|Temperature|Fuel_Price|     CPI|Unemployment|IsHoliday|Week|Month|Year|Quarter|MarkDown|\n",
            "+----------+-----+------------+----------+-----------+----------+--------+------------+---------+----+-----+----+-------+--------+\n",
            "|2010-03-12|   32|        87.0|2010-03-12|    5083.95|      null|203007.0|       39.88|     null|null| null|   0|   2010|     3.0|\n",
            "|2010-03-12|   37|        79.0|2010-03-12|    8200.92|      null| 39910.0|       61.96|     null|null| null|   0|   2010|     3.0|\n",
            "|2010-03-12|   40|        35.0|2010-03-12|     2011.0|      null|155083.0|        35.1|     null|null| null|   0|   2010|     3.0|\n",
            "|2010-03-12|   37|        80.0|2010-03-12|   11033.67|      null| 39910.0|       61.96|     null|null| null|   0|   2010|     3.0|\n",
            "|2010-03-12|   30|        93.0|2010-03-12|   22841.38|      null| 42988.0|        57.1|     null|null| null|   0|   2010|     3.0|\n",
            "+----------+-----+------------+----------+-----------+----------+--------+------------+---------+----+-----+----+-------+--------+\n",
            "only showing top 5 rows\n",
            "\n"
          ]
        }
      ]
    },
    {
      "cell_type": "code",
      "source": [
        "#spark.stop()"
      ],
      "metadata": {
        "id": "bkcwpKygen4W"
      },
      "execution_count": null,
      "outputs": []
    },
    {
      "cell_type": "code",
      "source": [],
      "metadata": {
        "id": "7bvGmIgMfiBd"
      },
      "execution_count": null,
      "outputs": []
    }
  ]
}